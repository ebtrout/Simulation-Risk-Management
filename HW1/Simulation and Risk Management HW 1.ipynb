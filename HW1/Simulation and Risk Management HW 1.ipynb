{
 "cells": [
  {
   "cell_type": "markdown",
   "metadata": {},
   "source": [
    "## Data preprocessing\n",
    "- Reading in\n",
    "- Creating Average Coulumn of Oil,Gas,Dry as Drill\n",
    "- Creating pct_change() column for the new Drill Column\n",
    "- Create a year column\n",
    "- Drop 2007"
   ]
  },
  {
   "cell_type": "code",
   "execution_count": 6,
   "metadata": {},
   "outputs": [
    {
     "data": {
      "text/html": [
       "<div>\n",
       "<style scoped>\n",
       "    .dataframe tbody tr th:only-of-type {\n",
       "        vertical-align: middle;\n",
       "    }\n",
       "\n",
       "    .dataframe tbody tr th {\n",
       "        vertical-align: top;\n",
       "    }\n",
       "\n",
       "    .dataframe thead th {\n",
       "        text-align: right;\n",
       "    }\n",
       "</style>\n",
       "<table border=\"1\" class=\"dataframe\">\n",
       "  <thead>\n",
       "    <tr style=\"text-align: right;\">\n",
       "      <th></th>\n",
       "      <th>Date</th>\n",
       "      <th>Oil</th>\n",
       "      <th>Gas</th>\n",
       "      <th>Dry</th>\n",
       "      <th>OilChange</th>\n",
       "      <th>GasChange</th>\n",
       "      <th>DryChange</th>\n",
       "      <th>Drill</th>\n",
       "      <th>DrillChange</th>\n",
       "      <th>Year</th>\n",
       "    </tr>\n",
       "  </thead>\n",
       "  <tbody>\n",
       "    <tr>\n",
       "      <th>0</th>\n",
       "      <td>1960-06-30</td>\n",
       "      <td>52.2</td>\n",
       "      <td>102.7</td>\n",
       "      <td>44.0</td>\n",
       "      <td>.</td>\n",
       "      <td>.</td>\n",
       "      <td>.</td>\n",
       "      <td>66.300000</td>\n",
       "      <td>NaN</td>\n",
       "      <td>1960</td>\n",
       "    </tr>\n",
       "    <tr>\n",
       "      <th>1</th>\n",
       "      <td>1961-06-30</td>\n",
       "      <td>51.3</td>\n",
       "      <td>94.7</td>\n",
       "      <td>45.2</td>\n",
       "      <td>-0.017241</td>\n",
       "      <td>-0.077897</td>\n",
       "      <td>0.027273</td>\n",
       "      <td>63.733333</td>\n",
       "      <td>-0.038713</td>\n",
       "      <td>1961</td>\n",
       "    </tr>\n",
       "    <tr>\n",
       "      <th>2</th>\n",
       "      <td>1962-06-30</td>\n",
       "      <td>54.2</td>\n",
       "      <td>97.1</td>\n",
       "      <td>50.8</td>\n",
       "      <td>0.05653</td>\n",
       "      <td>0.025343</td>\n",
       "      <td>0.123894</td>\n",
       "      <td>67.366667</td>\n",
       "      <td>0.057008</td>\n",
       "      <td>1962</td>\n",
       "    </tr>\n",
       "    <tr>\n",
       "      <th>3</th>\n",
       "      <td>1963-06-30</td>\n",
       "      <td>51.8</td>\n",
       "      <td>92.4</td>\n",
       "      <td>48.2</td>\n",
       "      <td>-0.04428</td>\n",
       "      <td>-0.048404</td>\n",
       "      <td>-0.051181</td>\n",
       "      <td>64.133333</td>\n",
       "      <td>-0.047996</td>\n",
       "      <td>1963</td>\n",
       "    </tr>\n",
       "    <tr>\n",
       "      <th>4</th>\n",
       "      <td>1964-06-30</td>\n",
       "      <td>50.6</td>\n",
       "      <td>104.8</td>\n",
       "      <td>48.5</td>\n",
       "      <td>-0.023166</td>\n",
       "      <td>0.134199</td>\n",
       "      <td>0.006224</td>\n",
       "      <td>67.966667</td>\n",
       "      <td>0.059771</td>\n",
       "      <td>1964</td>\n",
       "    </tr>\n",
       "    <tr>\n",
       "      <th>5</th>\n",
       "      <td>1965-06-30</td>\n",
       "      <td>56.6</td>\n",
       "      <td>101.9</td>\n",
       "      <td>53.1</td>\n",
       "      <td>0.118577</td>\n",
       "      <td>-0.027672</td>\n",
       "      <td>0.094845</td>\n",
       "      <td>70.533333</td>\n",
       "      <td>0.037764</td>\n",
       "      <td>1965</td>\n",
       "    </tr>\n",
       "    <tr>\n",
       "      <th>6</th>\n",
       "      <td>1966-06-30</td>\n",
       "      <td>62.2</td>\n",
       "      <td>133.8</td>\n",
       "      <td>56.9</td>\n",
       "      <td>0.09894</td>\n",
       "      <td>0.313052</td>\n",
       "      <td>0.071563</td>\n",
       "      <td>84.300000</td>\n",
       "      <td>0.195180</td>\n",
       "      <td>1966</td>\n",
       "    </tr>\n",
       "    <tr>\n",
       "      <th>7</th>\n",
       "      <td>1967-06-30</td>\n",
       "      <td>66.6</td>\n",
       "      <td>141.0</td>\n",
       "      <td>61.5</td>\n",
       "      <td>0.07074</td>\n",
       "      <td>0.053812</td>\n",
       "      <td>0.080844</td>\n",
       "      <td>89.700000</td>\n",
       "      <td>0.064057</td>\n",
       "      <td>1967</td>\n",
       "    </tr>\n",
       "    <tr>\n",
       "      <th>8</th>\n",
       "      <td>1968-06-30</td>\n",
       "      <td>79.1</td>\n",
       "      <td>148.5</td>\n",
       "      <td>66.2</td>\n",
       "      <td>0.187688</td>\n",
       "      <td>0.053191</td>\n",
       "      <td>0.076423</td>\n",
       "      <td>97.933333</td>\n",
       "      <td>0.091787</td>\n",
       "      <td>1968</td>\n",
       "    </tr>\n",
       "    <tr>\n",
       "      <th>9</th>\n",
       "      <td>1969-06-30</td>\n",
       "      <td>86.5</td>\n",
       "      <td>154.3</td>\n",
       "      <td>70.2</td>\n",
       "      <td>0.093552</td>\n",
       "      <td>0.039057</td>\n",
       "      <td>0.060423</td>\n",
       "      <td>103.666667</td>\n",
       "      <td>0.058543</td>\n",
       "      <td>1969</td>\n",
       "    </tr>\n",
       "  </tbody>\n",
       "</table>\n",
       "</div>"
      ],
      "text/plain": [
       "        Date   Oil    Gas   Dry OilChange GasChange DryChange       Drill  \\\n",
       "0 1960-06-30  52.2  102.7  44.0         .         .         .   66.300000   \n",
       "1 1961-06-30  51.3   94.7  45.2 -0.017241 -0.077897  0.027273   63.733333   \n",
       "2 1962-06-30  54.2   97.1  50.8   0.05653  0.025343  0.123894   67.366667   \n",
       "3 1963-06-30  51.8   92.4  48.2  -0.04428 -0.048404 -0.051181   64.133333   \n",
       "4 1964-06-30  50.6  104.8  48.5 -0.023166  0.134199  0.006224   67.966667   \n",
       "5 1965-06-30  56.6  101.9  53.1  0.118577 -0.027672  0.094845   70.533333   \n",
       "6 1966-06-30  62.2  133.8  56.9   0.09894  0.313052  0.071563   84.300000   \n",
       "7 1967-06-30  66.6  141.0  61.5   0.07074  0.053812  0.080844   89.700000   \n",
       "8 1968-06-30  79.1  148.5  66.2  0.187688  0.053191  0.076423   97.933333   \n",
       "9 1969-06-30  86.5  154.3  70.2  0.093552  0.039057  0.060423  103.666667   \n",
       "\n",
       "   DrillChange  Year  \n",
       "0          NaN  1960  \n",
       "1    -0.038713  1961  \n",
       "2     0.057008  1962  \n",
       "3    -0.047996  1963  \n",
       "4     0.059771  1964  \n",
       "5     0.037764  1965  \n",
       "6     0.195180  1966  \n",
       "7     0.064057  1967  \n",
       "8     0.091787  1968  \n",
       "9     0.058543  1969  "
      ]
     },
     "execution_count": 6,
     "metadata": {},
     "output_type": "execute_result"
    }
   ],
   "source": [
    "import pandas as pd\n",
    "import numpy as np\n",
    "\n",
    "data = pd.read_excel(\"Analysis_Data.xlsx\",sheet_name=\"Drilling Cost\",skiprows = 2)\n",
    "\n",
    "data.columns = [\"Date\",\"Oil\",\"Gas\",\"Dry\",\"OilChange\",\"GasChange\",'DryChange']\n",
    "data['Drill'] = (data['Oil'] + data['Dry'] + data['Gas']) / 3\n",
    "data['DrillChange'] = data['Drill'].pct_change()\n",
    "\n",
    "data['Year'] = data['Date'].dt.year\n",
    "\n",
    "# Drop 2007\n",
    "data = data[data[\"Year\"] != 2007]\n",
    "\n",
    "\n",
    "data.head(10)\n"
   ]
  },
  {
   "cell_type": "markdown",
   "metadata": {},
   "source": [
    "## Distributions for 2006-2012"
   ]
  },
  {
   "cell_type": "markdown",
   "metadata": {},
   "source": [
    "### Checking Normality and Creating Kernel\n",
    "- QQline\n",
    "- Kernel density created from 1990-2006\n",
    "- 1,000,000 Simulations of the kernel estimated from 1990-2006"
   ]
  },
  {
   "cell_type": "code",
   "execution_count": 7,
   "metadata": {},
   "outputs": [
    {
     "data": {
      "image/png": "[encoded data removed]",
      "text/plain": [
       "<Figure size 640x480 with 1 Axes>"
      ]
     },
     "metadata": {},
     "output_type": "display_data"
    },
    {
     "data": {
      "text/plain": [
       "(array([  46.,  355.,  920., 1879., 2516., 2324., 1191.,  513.,  234.,\n",
       "          22.]),\n",
       " array([-0.45845869, -0.33346682, -0.20847495, -0.08348308,  0.04150879,\n",
       "         0.16650066,  0.29149253,  0.4164844 ,  0.54147627,  0.66646814,\n",
       "         0.79146001]),\n",
       " <BarContainer object of 10 artists>)"
      ]
     },
     "execution_count": 7,
     "metadata": {},
     "output_type": "execute_result"
    },
    {
     "data": {
      "image/png": "[encoded data removed]",
      "text/plain": [
       "<Figure size 640x480 with 1 Axes>"
      ]
     },
     "metadata": {},
     "output_type": "display_data"
    }
   ],
   "source": [
    "from scipy.stats import gaussian_kde\n",
    "import scipy.stats as stats\n",
    "import matplotlib.pyplot as plt\n",
    "\n",
    "normal = data[(data['Year'] > 1990)]\n",
    "\n",
    "kernelData = list(normal['OilChange']) + list(normal['GasChange']) + list(normal['DryChange'])\n",
    "\n",
    "stats.probplot(kernelData,dist = \"norm\",plot = plt)\n",
    "\n",
    "plt.show()\n",
    "\n",
    "kernel = gaussian_kde(kernelData)\n",
    "\n",
    "samp = kernel.resample(size = 10000).flatten();\n",
    "\n",
    "plt.hist(samp)"
   ]
  },
  {
   "cell_type": "markdown",
   "metadata": {},
   "source": [
    "Looking exceptionally normal! \n",
    "Probably safe to go with an assumed normal distribution"
   ]
  },
  {
   "cell_type": "code",
   "execution_count": 8,
   "metadata": {},
   "outputs": [
    {
     "name": "stdout",
     "output_type": "stream",
     "text": [
      "Normal Dist\n",
      "Mu: 0.131 \n",
      "Stddev: 0.178\n"
     ]
    }
   ],
   "source": [
    "loc = pd.Series(kernelData).mean()\n",
    "scale = np.sqrt(pd.Series(kernelData).var())\n",
    "\n",
    "print(f\"Normal Dist\\nMu: {round(loc,3)} \\nStddev: {round(scale,3)}\")"
   ]
  },
  {
   "cell_type": "markdown",
   "metadata": {},
   "source": [
    "## Simulation Function\n",
    "- k: By default False. If true, the kernel density will be used for 2006-2012 instead of the normal distribution\n",
    "- Returns: Returns a simulated value of changes in cost from 2006 to 2025"
   ]
  },
  {
   "cell_type": "code",
   "execution_count": null,
   "metadata": {},
   "outputs": [],
   "source": [
    "def drill(k = False):\n",
    "    changes = []\n",
    "    \n",
    "    ## 2007-2012 Depending on k = \n",
    "    if k == True:\n",
    "        samp = list(kernel.resample(size = 6).flatten());\n",
    "    else:\n",
    "        samp = list(np.random.normal(loc = loc,scale = scale,size = 6))\n",
    "    changes += (samp)\n",
    "    ## 2012 - 2015\n",
    "    samp = list(np.random.triangular(right = -.07,mode = -.0917,left = -.22,size = 3))\n",
    "    changes += samp\n",
    "    ## 2015-2025\n",
    "    samp = list(np.random.triangular(left = .02,mode = .05,right = .06,size = 10))\n",
    "    changes += samp\n",
    "    \n",
    "    # Create the product of all the years changes \n",
    "    temp = pd.Series([1] * len(changes))\n",
    "    changes = pd.Series(changes) + temp\n",
    "    \n",
    "    return changes.prod()\n",
    "    \n"
   ]
  },
  {
   "cell_type": "markdown",
   "metadata": {},
   "source": [
    "## Simulating\n",
    "\n",
    "- Runs 1,000,000 Simulations for normal and kernel\n",
    "- Saves them to a file "
   ]
  },
  {
   "cell_type": "code",
   "execution_count": 10,
   "metadata": {},
   "outputs": [
    {
     "name": "stdout",
     "output_type": "stream",
     "text": [
      "2279.7999999999997\n"
     ]
    }
   ],
   "source": [
    "price2006 = data.loc[len(data) - 1,\"Drill\"]\n",
    "print(price2006)"
   ]
  },
  {
   "cell_type": "code",
   "execution_count": null,
   "metadata": {},
   "outputs": [],
   "source": [
    "import joblib as jl\n",
    "\n",
    "simulationsNormal = []\n",
    "for i in range(0,100000):\n",
    "     a = simulate()\n",
    "     simulationsNormal.append(a)\n",
    "\n",
    "\n",
    "simulationsNormal = pd.Series(simulationsNormal) * price2006\n",
    "\n",
    "jl.dump(simulationsNormal,\"simulationsNormal.pkl\")\n",
    "\n",
    "simulationsKernel = []\n",
    "for i in range(0,100000):\n",
    "     a = simulate(k = True)\n",
    "     simulationsKernel.append(a)\n",
    "\n",
    "simulationsKernel = pd.Series(simulationsKernel) * price2006\n",
    "\n",
    "jl.dump(simulationsKernel,\"simulationsKernel.pkl\")"
   ]
  },
  {
   "cell_type": "markdown",
   "metadata": {},
   "source": [
    "## Simulation Graphs\n",
    "- Normal and Kernel"
   ]
  },
  {
   "cell_type": "code",
   "execution_count": 20,
   "metadata": {},
   "outputs": [],
   "source": [
    "import joblib as jl\n",
    "# Read in the Files\n",
    "simulationsKernel = jl.load(\"simulationsKernel.pkl\")\n",
    "simulationsNormal = jl.load(\"simulationsNormal.pkl\")"
   ]
  },
  {
   "cell_type": "code",
   "execution_count": null,
   "metadata": {},
   "outputs": [],
   "source": []
  },
  {
   "cell_type": "code",
   "execution_count": 25,
   "metadata": {},
   "outputs": [
    {
     "data": {
      "image/png": "[encoded data removed]",
      "text/plain": [
       "<Figure size 640x480 with 1 Axes>"
      ]
     },
     "metadata": {},
     "output_type": "display_data"
    }
   ],
   "source": [
    "import matplotlib.ticker as mtick\n",
    "\n",
    "\n",
    "plt.hist(pd.Series(simulationsKernel),edgecolor = \"black\",color = \"blue\",bins = 100)\n",
    "plt.style.use(\"ggplot\")\n",
    "plt.xlabel(\"Drilling Price\")\n",
    "plt.ylabel(\"Density\")\n",
    "plt.title(\"Kernel Simulated 2025 Prices\")\n",
    "plt.show()"
   ]
  },
  {
   "cell_type": "code",
   "execution_count": 23,
   "metadata": {},
   "outputs": [
    {
     "data": {
      "image/png": "[encoded data removed]",
      "text/plain": [
       "<Figure size 640x480 with 1 Axes>"
      ]
     },
     "metadata": {},
     "output_type": "display_data"
    }
   ],
   "source": [
    "import matplotlib.pyplot as plt\n",
    "import pandas as pd\n",
    "\n",
    "plt.hist(pd.Series(simulationsNormal), edgecolor=\"black\", color=\"blue\", bins=100, alpha=0.7, label=\"Simulated Prices\")\n",
    "plt.style.use(\"ggplot\")\n",
    "plt.xlabel(\"Drilling Price\")\n",
    "plt.ylabel(\"Density\")\n",
    "plt.title(\"Normal Simulated 2025 Prices\")\n",
    "\n",
    "mean_value = pd.Series(simulationsNormal).mean()\n",
    "plt.axvline(mean_value, color='red', linestyle='dashed', linewidth=2, label=\"Mean of Simulations\")\n",
    "\n",
    "plt.legend()\n",
    "\n",
    "plt.show()\n"
   ]
  },
  {
   "cell_type": "code",
   "execution_count": 15,
   "metadata": {},
   "outputs": [
    {
     "data": {
      "text/plain": [
       "count    100000.000000\n",
       "mean       4861.572496\n",
       "std        2155.483067\n",
       "min         519.440823\n",
       "25%        3311.032891\n",
       "50%        4476.517752\n",
       "75%        6001.345170\n",
       "max       24161.019624\n",
       "dtype: float64"
      ]
     },
     "execution_count": 15,
     "metadata": {},
     "output_type": "execute_result"
    }
   ],
   "source": [
    "(pd.Series(simulationsKernel)).describe()"
   ]
  },
  {
   "cell_type": "code",
   "execution_count": 21,
   "metadata": {},
   "outputs": [
    {
     "data": {
      "text/plain": [
       "count    100000.000000\n",
       "mean       4874.937431\n",
       "std        1977.832459\n",
       "min         379.154574\n",
       "25%        3451.933213\n",
       "50%        4567.936595\n",
       "75%        5948.413451\n",
       "max       24334.004988\n",
       "dtype: float64"
      ]
     },
     "execution_count": 21,
     "metadata": {},
     "output_type": "execute_result"
    }
   ],
   "source": [
    "(pd.Series(simulationsNormal)).describe()"
   ]
  },
  {
   "cell_type": "code",
   "execution_count": 19,
   "metadata": {},
   "outputs": [
    {
     "data": {
      "text/plain": [
       "0.00      379.154574\n",
       "0.10     2651.447781\n",
       "0.20     3213.372988\n",
       "0.25     3451.933213\n",
       "0.50     4567.936595\n",
       "0.75     5948.413451\n",
       "0.90     7493.897333\n",
       "1.00    24334.004988\n",
       "dtype: float64"
      ]
     },
     "execution_count": 19,
     "metadata": {},
     "output_type": "execute_result"
    }
   ],
   "source": [
    "pd.Series(simulationsNormal).quantile([0,.1,.2,.25,.5,.75,.90,1])"
   ]
  },
  {
   "cell_type": "code",
   "execution_count": 3,
   "metadata": {},
   "outputs": [
    {
     "data": {
      "text/plain": [
       "<spacy.lang.en.English at 0x2272d57d790>"
      ]
     },
     "execution_count": 3,
     "metadata": {},
     "output_type": "execute_result"
    }
   ],
   "source": [
    "import spacy\n",
    "spacy.load(\"en_core_web_sm\")"
   ]
  },
  {
   "cell_type": "code",
   "execution_count": 44,
   "metadata": {},
   "outputs": [
    {
     "name": "stdout",
     "output_type": "stream",
     "text": [
      "am ROOT am AUX ['I', 'not', 'fan', '.']\n",
      "hate ROOT hate VERB ['I', 'cat']\n"
     ]
    }
   ],
   "source": [
    "import spacy\n",
    "from spacy import displacy\n",
    "\n",
    "nlp = spacy.load('en_core_web_sm')\n",
    "doc = nlp(u'I am not a fan of dogs. I hate your cat')\n",
    "\n",
    "options = {'compact': True, 'color': 'black', 'font': 'Arial'}\n",
    "\n",
    "# Corrected condition\n",
    "negation_tokens = [tok for tok in doc if tok.dep_ == 'neg' or tok.text == \"hate\"]\n",
    "\n",
    "negation_head_tokens = [token.head for token in negation_tokens]\n",
    "\n",
    "\n",
    "\n",
    "for token in negation_head_tokens:\n",
    "    print(token.text, token.dep_, token.head.text, token.head.pos_, [child.text for child in token.children])\n",
    "\n",
    "# displacy.serve(doc, style='dep', options=options)\n"
   ]
  },
  {
   "cell_type": "code",
   "execution_count": 43,
   "metadata": {},
   "outputs": [
    {
     "data": {
      "text/plain": [
       "[am, hate, hate, hate]"
      ]
     },
     "execution_count": 43,
     "metadata": {},
     "output_type": "execute_result"
    }
   ],
   "source": [
    "negation_head_tokens"
   ]
  },
  {
   "cell_type": "code",
   "execution_count": 28,
   "metadata": {},
   "outputs": [
    {
     "data": {
      "text/plain": [
       "[]"
      ]
     },
     "execution_count": 28,
     "metadata": {},
     "output_type": "execute_result"
    }
   ],
   "source": [
    "negation = [tok for tok in doc if tok.dep_ == 'neg']\n",
    "\n",
    "negation"
   ]
  },
  {
   "cell_type": "code",
   "execution_count": 29,
   "metadata": {},
   "outputs": [
    {
     "name": "stdout",
     "output_type": "stream",
     "text": [
      "nsubj\n",
      "ROOT\n",
      "dobj\n"
     ]
    }
   ],
   "source": [
    "for token in doc:\n",
    "    print(token.dep_)"
   ]
  },
  {
   "cell_type": "code",
   "execution_count": null,
   "metadata": {},
   "outputs": [
    {
     "ename": "AttributeError",
     "evalue": "'spacy.tokens.token.Token' object has no attribute 'astype'",
     "output_type": "error",
     "traceback": [
      "\u001b[1;31m---------------------------------------------------------------------------\u001b[0m",
      "\u001b[1;31mAttributeError\u001b[0m                            Traceback (most recent call last)",
      "Cell \u001b[1;32mIn[41], line 4\u001b[0m\n\u001b[0;32m      1\u001b[0m negation_tokens \u001b[38;5;241m=\u001b[39m [tok \u001b[38;5;28;01mfor\u001b[39;00m tok \u001b[38;5;129;01min\u001b[39;00m doc \u001b[38;5;28;01mif\u001b[39;00m tok\u001b[38;5;241m.\u001b[39mdep_ \u001b[38;5;241m==\u001b[39m \u001b[38;5;124m'\u001b[39m\u001b[38;5;124mneg\u001b[39m\u001b[38;5;124m'\u001b[39m \u001b[38;5;129;01mor\u001b[39;00m tok\u001b[38;5;241m.\u001b[39mhead \u001b[38;5;241m==\u001b[39m \u001b[38;5;124m\"\u001b[39m\u001b[38;5;124mhate\u001b[39m\u001b[38;5;124m\"\u001b[39m]\n\u001b[0;32m      3\u001b[0m \u001b[38;5;28;01mfor\u001b[39;00m tok \u001b[38;5;129;01min\u001b[39;00m doc:\n\u001b[1;32m----> 4\u001b[0m      \u001b[38;5;28mprint\u001b[39m(\u001b[43mtok\u001b[49m\u001b[38;5;241;43m.\u001b[39;49m\u001b[43mastype\u001b[49m(\u001b[38;5;124m\"\u001b[39m\u001b[38;5;124mchr\u001b[39m\u001b[38;5;124m\"\u001b[39m))\n\u001b[0;32m      6\u001b[0m negation_head_tokens \u001b[38;5;241m=\u001b[39m [token\u001b[38;5;241m.\u001b[39mhead \u001b[38;5;28;01mfor\u001b[39;00m token \u001b[38;5;129;01min\u001b[39;00m negation_tokens]\n\u001b[0;32m      8\u001b[0m \u001b[38;5;28;01mfor\u001b[39;00m token \u001b[38;5;129;01min\u001b[39;00m negation_head_tokens:\n",
      "\u001b[1;31mAttributeError\u001b[0m: 'spacy.tokens.token.Token' object has no attribute 'astype'"
     ]
    }
   ],
   "source": [
    "negation_tokens = [tok for tok in doc if tok.dep_ == 'neg' or tok.head == \"hate\"]\n",
    "\n",
    "\n",
    "\n",
    "\n",
    "negation_head_tokens = [token.head for token in negation_tokens]\n",
    "\n",
    "for token in negation_head_tokens:\n",
    "     print(token.text, token.dep_, token.head.text, token.head.pos_, [child for child in token.children])"
   ]
  },
  {
   "cell_type": "code",
   "execution_count": 48,
   "metadata": {},
   "outputs": [
    {
     "data": {
      "text/plain": [
       "['hate111']"
      ]
     },
     "execution_count": 48,
     "metadata": {},
     "output_type": "execute_result"
    }
   ],
   "source": [
    "[tok.text + \"111\" for tok in negation_head_tokens if tok.text == \"hate\"]"
   ]
  }
 ],
 "metadata": {
  "kernelspec": {
   "display_name": "Python 3",
   "language": "python",
   "name": "python3"
  },
  "language_info": {
   "codemirror_mode": {
    "name": "ipython",
    "version": 3
   },
   "file_extension": ".py",
   "mimetype": "text/x-python",
   "name": "python",
   "nbconvert_exporter": "python",
   "pygments_lexer": "ipython3",
   "version": "3.12.4"
  }
 },
 "nbformat": 4,
 "nbformat_minor": 2
}
