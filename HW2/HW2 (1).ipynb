{
 "cells": [
  {
   "cell_type": "code",
   "execution_count": 1,
   "metadata": {},
   "outputs": [],
   "source": [
    "import pandas as pd\n",
    "import numpy as np\n",
    "import logging\n",
    "import scipy as sp\n",
    "import matplotlib.pyplot as plt\n",
    "from scipy.stats import truncnorm\n"
   ]
  },
  {
   "cell_type": "code",
   "execution_count": 2,
   "metadata": {},
   "outputs": [],
   "source": [
    "# Create logger to help with information reporting\n",
    "logging.basicConfig(\n",
    "    level=logging.INFO,\n",
    "    format='%(asctime)s - %(levelname)s - %(message)s'\n",
    ")\n",
    "# Ability to turn logging on and off\n",
    "logging_on = False\n",
    "if not logging_on:\n",
    "    logging.disable(logging.CRITICAL)\n",
    "else:\n",
    "    logging.disable(logging.NOTSET)"
   ]
  },
  {
   "cell_type": "code",
   "execution_count": 3,
   "metadata": {},
   "outputs": [],
   "source": [
    "# Variables that are the same across simulations\n",
    "num_years = 15\n",
    "num_simulations = 10000000\n",
    "wet_well = True\n",
    "\n",
    "# Load data first\n",
    "oil_prices = pd.read_excel(\"Analysis_Data.xlsx\", header=2)\n",
    "\n",
    "# Simulated oil prices\n",
    "prices = np.random.triangular(\n",
    "    left=oil_prices.loc[0:num_years-1, \"Low Oil Price\"].values[None, :],\n",
    "    mode=oil_prices.loc[0:num_years-1, \"AEO2023 Reference\"].values[None, :],\n",
    "    right=oil_prices.loc[0:num_years-1, \"High Oil Price\"].values[None, :],\n",
    "    size=(num_simulations, num_years)\n",
    ")\n",
    "\n",
    "# This is the same across all simulations (only for sim one well)\n",
    "operating_costs = np.random.normal(loc=2.25, scale=0.30, size=(num_simulations, num_years))\n",
    "annual_salary = np.random.triangular(\n",
    "    left=172_000,\n",
    "    mode=215_000, \n",
    "    right=279_000,\n",
    "    size=num_simulations\n",
    ")[:, None] * np.ones(num_years)\n"
   ]
  },
  {
   "cell_type": "markdown",
   "metadata": {},
   "source": [
    "# Year 0 Costs\n",
    "- The cost of these items depends on the number of wells in the project.\n",
    "- Uncertain assumptions include leased acres per well, which are Normally distributed with a mean of 600 and a standard deviation of 50 acres per well (lower number of wells means lower number of acres to buy); the price per acre is $960.\n",
    "- The number of seismic sections per well is Normally \n",
    "distributed with a mean of 3 sections and a standard deviation of 0.35 per well (lower number \n",
    "of wells means lower number of sections to purchase data on); the seismic costs per section are \n",
    "$43,000."
   ]
  },
  {
   "cell_type": "code",
   "execution_count": 4,
   "metadata": {},
   "outputs": [],
   "source": [
    "def initial_costs(num_simulations, wet_well=False):\n",
    "    \"\"\"Calculate initial costs including seismic, lease, and well preparation.\"\"\"\n",
    "    # Drilling costs (in thousands)\n",
    "    price_06 = 2279.8  # 2006 price average\n",
    "    years = np.arange(2007, 2026)  # Years to simulate\n",
    "    prices = np.full((num_simulations, len(years)), price_06)\n",
    "    changes_2007_2012 = np.random.normal(0.1314912658158, 0.17656869616614107, size=(num_simulations, 6))  # For years 2008-2012\n",
    "    changes_2013_2015 = np.random.triangular(-0.22, -0.0917, -0.07, size=(num_simulations, 3))  # For years 2013-2015\n",
    "    changes_2016_2025 = np.random.triangular(0.02, 0.05, 0.06, size=(num_simulations, 10))     # For years 2016-2025\n",
    "    all_changes = np.hstack((changes_2007_2012, changes_2013_2015, changes_2016_2025))\n",
    "    cumulative_factors = np.cumprod(1 + all_changes, axis=1)\n",
    "    prices[:, :] *= cumulative_factors\n",
    "    drilling_cost = (prices[:, -1] * 1000)\n",
    "\n",
    "    logging.info(f\"Mean simulated drilling_cost: {drilling_cost.mean():,.2f}\")\n",
    "    # Seismic and lease costs\n",
    "    price_per_acre = 960\n",
    "    total_acres_price = np.random.normal(loc=600,scale=50,size=num_simulations) * price_per_acre\n",
    "    logging.info(f\"Mean simulated total_acres_price: {total_acres_price.mean():,.2f}\")\n",
    "\n",
    "    price_per_section = 43_000\n",
    "    total_sections_price = np.random.normal(loc=3,scale=0.35,size=num_simulations) * price_per_section\n",
    "    logging.info(f\"Mean simulated total_sections_price: {total_sections_price.mean():,.2f}\")\n",
    "\n",
    "    total_lease_cost = total_acres_price + total_sections_price\n",
    "\n",
    "    # Well preparation costs\n",
    "    if wet_well:\n",
    "        well_prep_cost = np.random.normal(loc=390_000,scale=50_000,size=num_simulations)\n",
    "    else:\n",
    "        well_prep_cost = np.zeros(shape=num_simulations)\n",
    "    logging.info(f\"Mean simulated well_prep_cost: {well_prep_cost.mean():,.2f}\")\n",
    "    # Calculate total year 0 costs\n",
    "    year_0_costs = total_lease_cost + well_prep_cost + annual_salary[:,0] + drilling_cost\n",
    "    logging.info(f\"Mean simulated year_0_costs: {year_0_costs.mean():,.2f}\")\n",
    "    return year_0_costs"
   ]
  },
  {
   "cell_type": "markdown",
   "metadata": {},
   "source": [
    "# Production Risk\n",
    "1. IP. The initial production rate tested from the drilled well. This is the rate the oil is produced at \n",
    "Year 1. \n",
    "2. Decline Rate. A declining production rate that describes the annual decrease in production from \n",
    "the beginning of the year to the end of the same year. To simplify the problem, we will assume \n",
    "each well has the same decline rate for every year of its life, but this could be different across \n",
    "wells."
   ]
  },
  {
   "cell_type": "code",
   "execution_count": 5,
   "metadata": {},
   "outputs": [],
   "source": [
    "def standardize(data):\n",
    "    return (data - np.mean(data)) / np.std(data)\n",
    "\n",
    "def destandardize(standardized_data, original_data):\n",
    "    return standardized_data * np.std(original_data) + np.mean(original_data)"
   ]
  },
  {
   "cell_type": "code",
   "execution_count": 6,
   "metadata": {},
   "outputs": [],
   "source": [
    "def production(num_simulations):\n",
    "    \"\"\"Calculate oil production over 15 years.\"\"\"\n",
    "    # Generate initial parameters\n",
    "    initial_production_rate = np.random.lognormal(mean=6,sigma=0.28,size=num_simulations)\n",
    "    logging.info(f\"Mean simulated initial_production_rate: {initial_production_rate.mean():,.2f}\")\n",
    "    rate_decline = np.random.uniform(low=0.15,high=0.32,size=num_simulations)\n",
    "    logging.info(f\"Mean simulated rate_decline: {rate_decline.mean():,.2f}\")\n",
    "\n",
    "    # Add correlation between parameters\n",
    "    corr_matrix = np.array([[1, 0.64], [0.64, 1]])\n",
    "    chol_decomp= sp.linalg.cholesky(corr_matrix, lower = False)\n",
    "    both_rates = np.array([\n",
    "        standardize(rate_decline),\n",
    "        standardize(initial_production_rate)\n",
    "    ])\n",
    "    \n",
    "    corr_rates = chol_decomp @ both_rates\n",
    "    \n",
    "    final_rates = np.array([\n",
    "        destandardize(corr_rates[0], rate_decline),\n",
    "        destandardize(corr_rates[1], initial_production_rate)\n",
    "    ])\n",
    "    logging.info(f\"Mean simulated correlated initial_production_rate: {final_rates[1].mean():,}\")\n",
    "    logging.info(f\"Mean simulated correlated rate_decline: {final_rates[0].mean():,}\")\n",
    "\n",
    "    # Calculate production for each year\n",
    "    barrels_per_year = np.zeros((num_simulations, num_years))\n",
    "    production_rate = final_rates[1].copy()  # Start with initial production\n",
    "    \n",
    "    for year in range(num_years):\n",
    "        start_rate = production_rate\n",
    "        end_rate = start_rate * (1 - final_rates[0])  # Apply decline rate\n",
    "        barrels_per_year[:, year] = 365 * (start_rate + end_rate) / 2\n",
    "        production_rate = end_rate  # Set up for next year\n",
    "        \n",
    "    logging.info(f\"Mean barrels across all years: {barrels_per_year.mean():,}\")\n",
    "    for year in range(num_years):\n",
    "        logging.info(f\"Mean simulated barrels for year {year+1}: {barrels_per_year[:,year].mean():,.2f}\")\n",
    "    return barrels_per_year"
   ]
  },
  {
   "cell_type": "markdown",
   "metadata": {},
   "source": [
    "# Revenue Risk"
   ]
  },
  {
   "cell_type": "code",
   "execution_count": 7,
   "metadata": {},
   "outputs": [],
   "source": [
    "def revenue(oil_production, prices):\n",
    "    \"\"\"Calculate revenue based on production and oil prices.\"\"\"\n",
    "    logging.info(f\"Mean simulated revenue: {(prices * oil_production).mean():,.2f}\")\n",
    "    return prices * oil_production"
   ]
  },
  {
   "cell_type": "markdown",
   "metadata": {},
   "source": [
    "Net revenue Interest. Oil companies must purchase leases from mineral interest holders. Along \n",
    "with paying cash to retain the drilling and production rights to a property for a specified time \n",
    "period, the lessee also generally retains some percentage of the oil revenue produced in the \n",
    "form of a royalty. The percentage that the producing company retains after paying all royalties is \n",
    "the net revenue interest (NRI). **Our model represents a typical West Texas scenario with an \n",
    "assumed NRI distributed Normally with a mean of 75% and a standard deviation of 2%. This \n",
    "calculation is done per well for the entire life of the well.**"
   ]
  },
  {
   "cell_type": "markdown",
   "metadata": {},
   "source": [
    "# Operating Expenses"
   ]
  },
  {
   "cell_type": "code",
   "execution_count": 8,
   "metadata": {},
   "outputs": [],
   "source": [
    "def expenses(num_simulations,oil_revenue, oil_production, operating_costs):\n",
    "    \"\"\"Calculate total expenses including NRI, operating costs, and taxes.\"\"\"\n",
    "    # Calculate NRI expenses\n",
    "    nri = np.random.normal(loc=0.25, scale=0.02, size=(num_simulations, 1))\n",
    "    nri_expense = nri * oil_revenue\n",
    "    logging.info(f\"Mean simulated NRI expense: {nri_expense.mean():,.2f}\")\n",
    "    \n",
    "    revenue_after_nri = oil_revenue - nri_expense\n",
    "    \n",
    "    # Calculate operating costs and taxes\n",
    "    operating_costs_expense = operating_costs * oil_production\n",
    "    logging.info(f\"Mean simulated operating costs expense: {operating_costs_expense.mean():,.2f}\")\n",
    "    severance_taxes_expense = 0.046 * revenue_after_nri\n",
    "    logging.info(f\"Mean simulated severance taxes expense: {severance_taxes_expense.mean():,.2f}\")\n",
    "    \n",
    "    return nri_expense + operating_costs_expense + severance_taxes_expense + annual_salary\n",
    "\n",
    "def net_present_value(year_0_costs, revenue, expenses, wacc=0.10):\n",
    "    \"\"\"Calculate net present value of the investment.\"\"\"\n",
    "    fnr = revenue - expenses\n",
    "    logging.info(f\"Mean simulated free net revenue: {fnr.mean():,.2f}\")\n",
    "    # Create initial NPV as minus initial costs\n",
    "    npv = np.full(num_simulations, -year_0_costs)\n",
    "    \n",
    "    for year in range(num_years):\n",
    "        npv += fnr[:, year] / ((1 + wacc) ** (year + 1))\n",
    "    \n",
    "    return npv"
   ]
  },
  {
   "cell_type": "markdown",
   "metadata": {},
   "source": [
    "# Well Simulation Function"
   ]
  },
  {
   "cell_type": "code",
   "execution_count": 9,
   "metadata": {},
   "outputs": [],
   "source": [
    "def simulate_well(num_simulations, wet_well=False):\n",
    "    \"\"\"Simulate a single well's financial performance.\"\"\"\n",
    "    # Initial costs\n",
    "    logging.info(f\"Mean simulated oil prices: {prices.mean():,.2f}\")\n",
    "    logging.info(f\"Mean simulated operating costs: {operating_costs.mean():,.2f}\")\n",
    "    logging.info(f\"Mean simulated annual salary: {annual_salary.mean():,.2f}\")\n",
    "    \n",
    "    year_0_costs = initial_costs(num_simulations, wet_well)\n",
    "    \n",
    "    if wet_well:\n",
    "        oil_production = production(num_simulations)\n",
    "        oil_revenue = revenue(oil_production, prices)\n",
    "        oil_expenses = expenses(num_simulations, oil_revenue, oil_production, operating_costs)\n",
    "        npv = net_present_value(year_0_costs, oil_revenue, oil_expenses)\n",
    "        return npv\n",
    "    else:\n",
    "        return -year_0_costs"
   ]
  },
  {
   "cell_type": "code",
   "execution_count": 10,
   "metadata": {},
   "outputs": [
    {
     "ename": "KeyboardInterrupt",
     "evalue": "",
     "output_type": "error",
     "traceback": [
      "\u001b[1;31m---------------------------------------------------------------------------\u001b[0m",
      "\u001b[1;31mKeyboardInterrupt\u001b[0m                         Traceback (most recent call last)",
      "Cell \u001b[1;32mIn[10], line 1\u001b[0m\n\u001b[1;32m----> 1\u001b[0m wet_well_sim \u001b[38;5;241m=\u001b[39m \u001b[43msimulate_well\u001b[49m\u001b[43m(\u001b[49m\u001b[43mnum_simulations\u001b[49m\u001b[43m,\u001b[49m\u001b[43m \u001b[49m\u001b[43mwet_well\u001b[49m\u001b[43m \u001b[49m\u001b[38;5;241;43m=\u001b[39;49m\u001b[43m \u001b[49m\u001b[38;5;28;43;01mTrue\u001b[39;49;00m\u001b[43m)\u001b[49m\n\u001b[0;32m      2\u001b[0m wet_well_sim_df \u001b[38;5;241m=\u001b[39m pd\u001b[38;5;241m.\u001b[39mDataFrame(wet_well_sim)\n\u001b[0;32m      3\u001b[0m \u001b[38;5;28mprint\u001b[39m(\u001b[38;5;124mf\u001b[39m\u001b[38;5;124m\"\u001b[39m\u001b[38;5;124mAverage NPV for wet wells: $\u001b[39m\u001b[38;5;132;01m{\u001b[39;00mwet_well_sim\u001b[38;5;241m.\u001b[39mmean()\u001b[38;5;132;01m:\u001b[39;00m\u001b[38;5;124m,.2f\u001b[39m\u001b[38;5;132;01m}\u001b[39;00m\u001b[38;5;124m\"\u001b[39m)\n",
      "Cell \u001b[1;32mIn[9], line 8\u001b[0m, in \u001b[0;36msimulate_well\u001b[1;34m(num_simulations, wet_well)\u001b[0m\n\u001b[0;32m      5\u001b[0m logging\u001b[38;5;241m.\u001b[39minfo(\u001b[38;5;124mf\u001b[39m\u001b[38;5;124m\"\u001b[39m\u001b[38;5;124mMean simulated operating costs: \u001b[39m\u001b[38;5;132;01m{\u001b[39;00moperating_costs\u001b[38;5;241m.\u001b[39mmean()\u001b[38;5;132;01m:\u001b[39;00m\u001b[38;5;124m,.2f\u001b[39m\u001b[38;5;132;01m}\u001b[39;00m\u001b[38;5;124m\"\u001b[39m)\n\u001b[0;32m      6\u001b[0m logging\u001b[38;5;241m.\u001b[39minfo(\u001b[38;5;124mf\u001b[39m\u001b[38;5;124m\"\u001b[39m\u001b[38;5;124mMean simulated annual salary: \u001b[39m\u001b[38;5;132;01m{\u001b[39;00mannual_salary\u001b[38;5;241m.\u001b[39mmean()\u001b[38;5;132;01m:\u001b[39;00m\u001b[38;5;124m,.2f\u001b[39m\u001b[38;5;132;01m}\u001b[39;00m\u001b[38;5;124m\"\u001b[39m)\n\u001b[1;32m----> 8\u001b[0m year_0_costs \u001b[38;5;241m=\u001b[39m \u001b[43minitial_costs\u001b[49m\u001b[43m(\u001b[49m\u001b[43mnum_simulations\u001b[49m\u001b[43m,\u001b[49m\u001b[43m \u001b[49m\u001b[43mwet_well\u001b[49m\u001b[43m)\u001b[49m\n\u001b[0;32m     10\u001b[0m \u001b[38;5;28;01mif\u001b[39;00m wet_well:\n\u001b[0;32m     11\u001b[0m     oil_production \u001b[38;5;241m=\u001b[39m production(num_simulations)\n",
      "Cell \u001b[1;32mIn[4], line 9\u001b[0m, in \u001b[0;36minitial_costs\u001b[1;34m(num_simulations, wet_well)\u001b[0m\n\u001b[0;32m      7\u001b[0m changes_2007_2012 \u001b[38;5;241m=\u001b[39m np\u001b[38;5;241m.\u001b[39mrandom\u001b[38;5;241m.\u001b[39mnormal(\u001b[38;5;241m0.1314912658158\u001b[39m, \u001b[38;5;241m0.17656869616614107\u001b[39m, size\u001b[38;5;241m=\u001b[39m(num_simulations, \u001b[38;5;241m6\u001b[39m))  \u001b[38;5;66;03m# For years 2008-2012\u001b[39;00m\n\u001b[0;32m      8\u001b[0m changes_2013_2015 \u001b[38;5;241m=\u001b[39m np\u001b[38;5;241m.\u001b[39mrandom\u001b[38;5;241m.\u001b[39mtriangular(\u001b[38;5;241m-\u001b[39m\u001b[38;5;241m0.22\u001b[39m, \u001b[38;5;241m-\u001b[39m\u001b[38;5;241m0.0917\u001b[39m, \u001b[38;5;241m-\u001b[39m\u001b[38;5;241m0.07\u001b[39m, size\u001b[38;5;241m=\u001b[39m(num_simulations, \u001b[38;5;241m3\u001b[39m))  \u001b[38;5;66;03m# For years 2013-2015\u001b[39;00m\n\u001b[1;32m----> 9\u001b[0m changes_2016_2025 \u001b[38;5;241m=\u001b[39m \u001b[43mnp\u001b[49m\u001b[38;5;241;43m.\u001b[39;49m\u001b[43mrandom\u001b[49m\u001b[38;5;241;43m.\u001b[39;49m\u001b[43mtriangular\u001b[49m\u001b[43m(\u001b[49m\u001b[38;5;241;43m0.02\u001b[39;49m\u001b[43m,\u001b[49m\u001b[43m \u001b[49m\u001b[38;5;241;43m0.05\u001b[39;49m\u001b[43m,\u001b[49m\u001b[43m \u001b[49m\u001b[38;5;241;43m0.06\u001b[39;49m\u001b[43m,\u001b[49m\u001b[43m \u001b[49m\u001b[43msize\u001b[49m\u001b[38;5;241;43m=\u001b[39;49m\u001b[43m(\u001b[49m\u001b[43mnum_simulations\u001b[49m\u001b[43m,\u001b[49m\u001b[43m \u001b[49m\u001b[38;5;241;43m10\u001b[39;49m\u001b[43m)\u001b[49m\u001b[43m)\u001b[49m     \u001b[38;5;66;03m# For years 2016-2025\u001b[39;00m\n\u001b[0;32m     10\u001b[0m all_changes \u001b[38;5;241m=\u001b[39m np\u001b[38;5;241m.\u001b[39mhstack((changes_2007_2012, changes_2013_2015, changes_2016_2025))\n\u001b[0;32m     11\u001b[0m cumulative_factors \u001b[38;5;241m=\u001b[39m np\u001b[38;5;241m.\u001b[39mcumprod(\u001b[38;5;241m1\u001b[39m \u001b[38;5;241m+\u001b[39m all_changes, axis\u001b[38;5;241m=\u001b[39m\u001b[38;5;241m1\u001b[39m)\n",
      "\u001b[1;31mKeyboardInterrupt\u001b[0m: "
     ]
    }
   ],
   "source": [
    "wet_well_sim = simulate_well(num_simulations, wet_well = True)\n",
    "wet_well_sim_df = pd.DataFrame(wet_well_sim)\n",
    "print(f\"Average NPV for wet wells: ${wet_well_sim.mean():,.2f}\")"
   ]
  },
  {
   "cell_type": "code",
   "execution_count": null,
   "metadata": {},
   "outputs": [],
   "source": [
    "dry_well_sim = simulate_well(num_simulations,wet_well= False)"
   ]
  },
  {
   "cell_type": "markdown",
   "metadata": {},
   "source": [
    "## Phase 3 "
   ]
  },
  {
   "cell_type": "code",
   "execution_count": 11,
   "metadata": {},
   "outputs": [],
   "source": [
    "def probProduce(n = 10):\n",
    "    # Hydrocarbons\n",
    "    mu = .99      # Mean\n",
    "    sigma = .05   # Standard deviation\n",
    "    lower = 0   # Lower bound\n",
    "    upper = 1   # Upper bound\n",
    "\n",
    "    a, b = (lower - mu) / sigma, (upper - mu) / sigma\n",
    "\n",
    "    hydro = pd.Series(truncnorm.rvs(a, b, loc=mu, scale=sigma, size=n))\n",
    "    \n",
    "     # Reservoir\n",
    "    mu = .8     # Mean\n",
    "    sigma = .1   # Standard deviation\n",
    "    lower = 0   # Lower bound\n",
    "    upper = 1   # Upper bound\n",
    "\n",
    "    a, b = (lower - mu) / sigma, (upper - mu) / sigma\n",
    "\n",
    "    reservoir = pd.Series(truncnorm.rvs(a, b, loc=mu, scale=sigma, size=n))\n",
    "    \n",
    "    prob = hydro * reservoir\n",
    "    return(prob)"
   ]
  },
  {
   "cell_type": "code",
   "execution_count": 12,
   "metadata": {},
   "outputs": [],
   "source": [
    "def wells(n = 10):\n",
    "    wellSamp = (round(pd.Series(np.random.uniform(10,30,size= n)),0))\n",
    "    wet = []\n",
    "    for well in wellSamp:\n",
    "        prob = probProduce(n = int(well))\n",
    "        numWet = np.random.binomial(n = 1, p = prob)\n",
    "        wet.append(numWet.sum())\n",
    "    dry = (pd.Series(wellSamp) - pd.Series(wet))\n",
    "    dry = [int(x) for x in dry]\n",
    "    wet = [int(x) for x in wet]\n",
    "    return([list(wet),list(dry)])"
   ]
  },
  {
   "cell_type": "code",
   "execution_count": 13,
   "metadata": {},
   "outputs": [],
   "source": [
    "import random\n",
    "def projectNPV(n = 10):\n",
    "    wellList = wells(n = n)\n",
    "    npvList = []\n",
    "    for i in range(0,n):\n",
    "        wet = wellList[0][i]\n",
    "        dry = int(wellList[1][i])\n",
    "        wetVal = pd.Series(random.sample(list(wet_well_sim), wet)).sum()\n",
    "        dryVal = pd.Series(random.sample(list(dry_well_sim), dry)).sum()\n",
    "        \n",
    "        npv = wetVal + dryVal\n",
    "        npvList.append(npv)\n",
    "    return(npvList)\n",
    "        \n",
    "        "
   ]
  },
  {
   "cell_type": "markdown",
   "metadata": {},
   "source": [
    "## Results:"
   ]
  },
  {
   "cell_type": "markdown",
   "metadata": {},
   "source": [
    "### Histograms of Hydro and Reservoir"
   ]
  },
  {
   "cell_type": "code",
   "execution_count": null,
   "metadata": {},
   "outputs": [
    {
     "data": {
      "image/png": "[encoded data removed]",
      "text/plain": [
       "<Figure size 640x480 with 1 Axes>"
      ]
     },
     "metadata": {},
     "output_type": "display_data"
    },
    {
     "data": {
      "image/png": "[encoded data removed]",
      "text/plain": [
       "<Figure size 640x480 with 1 Axes>"
      ]
     },
     "metadata": {},
     "output_type": "display_data"
    }
   ],
   "source": [
    "# Hydrocarbons\n",
    "mu = .99      # Mean\n",
    "sigma = .05   # Standard deviation\n",
    "lower = 0   # Lower bound\n",
    "upper = 1   # Upper bound\n",
    "\n",
    "a, b = (lower - mu) / sigma, (upper - mu) / sigma\n",
    "\n",
    "hydro = pd.Series(truncnorm.rvs(a, b, loc=mu, scale=sigma, size=100000))\n",
    "\n",
    "    # Reservoir\n",
    "mu = .8     # Mean\n",
    "sigma = .1   # Standard deviation\n",
    "lower = 0   # Lower bound\n",
    "upper = 1   # Upper bound\n",
    "\n",
    "a, b = (lower - mu) / sigma, (upper - mu) / sigma\n",
    "\n",
    "reservoir = pd.Series(truncnorm.rvs(a, b, loc=mu, scale=sigma, size=100000))\n",
    "\n",
    "plt.hist(hydro, bins=100,  color='skyblue', edgecolor='black')\n",
    "plt.show()\n",
    "\n",
    "plt.hist(reservoir, bins=100,  color='skyblue', edgecolor='black')\n",
    "plt.show()\n"
   ]
  },
  {
   "cell_type": "markdown",
   "metadata": {},
   "source": [
    "### Histogram for proportion of wells producing"
   ]
  },
  {
   "cell_type": "code",
   "execution_count": 14,
   "metadata": {},
   "outputs": [
    {
     "data": {
      "image/png": "[encoded data removed]",
      "text/plain": [
       "<Figure size 640x480 with 1 Axes>"
      ]
     },
     "metadata": {},
     "output_type": "display_data"
    }
   ],
   "source": [
    "prob = probProduce(n = 100000)\n",
    "\n",
    "plt.hist(prob, bins=100,  color='skyblue', edgecolor='black')\n",
    "plt.show()"
   ]
  },
  {
   "cell_type": "code",
   "execution_count": 15,
   "metadata": {},
   "outputs": [
    {
     "data": {
      "text/plain": [
       "count    100000.000000\n",
       "mean          0.760134\n",
       "std           0.093568\n",
       "min           0.343531\n",
       "25%           0.696801\n",
       "50%           0.761834\n",
       "75%           0.826526\n",
       "max           0.998082\n",
       "dtype: float64"
      ]
     },
     "execution_count": 15,
     "metadata": {},
     "output_type": "execute_result"
    }
   ],
   "source": [
    "prob.describe()"
   ]
  },
  {
   "cell_type": "markdown",
   "metadata": {},
   "source": [
    "### Histogram for number of wells producing"
   ]
  },
  {
   "cell_type": "code",
   "execution_count": 17,
   "metadata": {},
   "outputs": [
    {
     "data": {
      "image/png": "[encoded data removed]",
      "text/plain": [
       "<Figure size 640x480 with 1 Axes>"
      ]
     },
     "metadata": {},
     "output_type": "display_data"
    }
   ],
   "source": [
    "well = wells(n= 10000)\n",
    "wet = []\n",
    "for i in range(0,len(well[0])):\n",
    "    wet.append(well[0][i])\n",
    "\n",
    "plt.hist(wet,  color='skyblue', edgecolor='black')\n",
    "plt.show()"
   ]
  },
  {
   "cell_type": "code",
   "execution_count": 21,
   "metadata": {},
   "outputs": [],
   "source": [
    "projects = projectNPV(10000)"
   ]
  },
  {
   "cell_type": "code",
   "execution_count": 23,
   "metadata": {},
   "outputs": [
    {
     "data": {
      "text/plain": [
       "['projects.pkl']"
      ]
     },
     "execution_count": 23,
     "metadata": {},
     "output_type": "execute_result"
    }
   ],
   "source": [
    "import joblib as jl\n",
    "jl.dump(projects,\"projects.pkl\")\n"
   ]
  },
  {
   "cell_type": "code",
   "execution_count": 24,
   "metadata": {},
   "outputs": [],
   "source": [
    "proj = pd.Series(projects) / 1000000"
   ]
  },
  {
   "cell_type": "code",
   "execution_count": 25,
   "metadata": {},
   "outputs": [
    {
     "data": {
      "image/png": "[encoded data removed]",
      "text/plain": [
       "<Figure size 640x480 with 1 Axes>"
      ]
     },
     "metadata": {},
     "output_type": "display_data"
    }
   ],
   "source": [
    "plt.hist(proj, bins  =100, color = \"skyblue\",edgecolor = \"black\")\n",
    "plt.show()"
   ]
  },
  {
   "cell_type": "code",
   "execution_count": 26,
   "metadata": {},
   "outputs": [
    {
     "data": {
      "text/plain": [
       "count    10000.000000\n",
       "mean       279.470986\n",
       "std         99.102909\n",
       "min         20.181663\n",
       "25%        203.402697\n",
       "50%        274.690554\n",
       "75%        351.318271\n",
       "max        597.772075\n",
       "dtype: float64"
      ]
     },
     "execution_count": 26,
     "metadata": {},
     "output_type": "execute_result"
    }
   ],
   "source": [
    "proj.describe()"
   ]
  },
  {
   "cell_type": "code",
   "execution_count": 27,
   "metadata": {},
   "outputs": [],
   "source": [
    "VAR = proj.quantile(.05)\n",
    "\n"
   ]
  },
  {
   "cell_type": "code",
   "execution_count": 28,
   "metadata": {},
   "outputs": [
    {
     "data": {
      "text/plain": [
       "np.float64(101.18753172955073)"
      ]
     },
     "execution_count": 28,
     "metadata": {},
     "output_type": "execute_result"
    }
   ],
   "source": [
    "CVAR = proj[proj <= VAR].mean()\n",
    "\n",
    "CVAR"
   ]
  },
  {
   "cell_type": "code",
   "execution_count": 30,
   "metadata": {},
   "outputs": [
    {
     "data": {
      "text/plain": [
       "np.float64(127.82964012097605)"
      ]
     },
     "execution_count": 30,
     "metadata": {},
     "output_type": "execute_result"
    }
   ],
   "source": [
    "VAR"
   ]
  }
 ],
 "metadata": {
  "kernelspec": {
   "display_name": "Python 3",
   "language": "python",
   "name": "python3"
  },
  "language_info": {
   "codemirror_mode": {
    "name": "ipython",
    "version": 3
   },
   "file_extension": ".py",
   "mimetype": "text/x-python",
   "name": "python",
   "nbconvert_exporter": "python",
   "pygments_lexer": "ipython3",
   "version": "3.12.4"
  }
 },
 "nbformat": 4,
 "nbformat_minor": 2
}
