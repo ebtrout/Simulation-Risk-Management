{
 "cells": [
  {
   "cell_type": "code",
   "execution_count": 33,
   "metadata": {},
   "outputs": [],
   "source": [
    "import pandas as pd\n",
    "import numpy as np\n",
    "from scipy.stats import gaussian_kde\n",
    "import scipy as sp\n",
    "import scipy.stats as stats\n",
    "import matplotlib.pyplot as plt\n",
    "\n",
    "data = pd.read_excel(\"Analysis_Data.xlsx\",sheet_name=\"Drilling Cost\",skiprows = 2)\n",
    "\n",
    "oil = pd.read_excel(\"Analysis_Data.xlsx\",sheet_name=\"Price Projections\",skiprows = 2)\n",
    "oil.columns = [\"Year\",\"High\",\"Low\",\"Expected\"]\n",
    "oil = oil[0:15]\n",
    "\n",
    "data.columns = [\"Date\",\"Oil\",\"Gas\",\"Dry\",\"OilChange\",\"GasChange\",'DryChange']\n",
    "data['Drill'] = (data['Oil'] + data['Dry'] + data['Gas']) / 3\n",
    "data['DrillChange'] = data['Drill'].pct_change()\n",
    "\n",
    "data['Year'] = data['Date'].dt.year\n",
    "\n",
    "# Drop 2007\n",
    "data = data[data[\"Year\"] != 2007]\n",
    "\n",
    "data.head(10)\n",
    "\n",
    "normal = data[(data['Year'] > 1990)]\n",
    "\n",
    "kernelData = list(normal['OilChange']) + list(normal['GasChange']) + list(normal['DryChange'])\n",
    "\n",
    "loc = pd.Series(kernelData).mean()\n",
    "scale = np.sqrt(pd.Series(kernelData).var())"
   ]
  },
  {
   "cell_type": "markdown",
   "metadata": {},
   "source": [
    "### Drill Costs"
   ]
  },
  {
   "cell_type": "code",
   "execution_count": 34,
   "metadata": {},
   "outputs": [],
   "source": [
    "def drill(k = False):\n",
    "    changes = []\n",
    "    \n",
    "    ## 2007-2012 Depending on k = \n",
    "    if k == True:\n",
    "        samp = list(kernel.resample(size = 6).flatten());\n",
    "    else:\n",
    "        samp = list(np.random.normal(loc = loc,scale = scale,size = 6))\n",
    "    changes += (samp)\n",
    "    ## 2012 - 2015\n",
    "    samp = list(np.random.triangular(right = -.07,mode = -.0917,left = -.22,size = 3))\n",
    "    changes += samp\n",
    "    ## 2015-2025\n",
    "    samp = list(np.random.triangular(left = .02,mode = .05,right = .06,size = 10))\n",
    "    changes += samp\n",
    "    \n",
    "    # Create the product of all the years changes \n",
    "    temp = pd.Series([1] * len(changes))\n",
    "    changes = pd.Series(changes) + temp\n",
    "    \n",
    "    changes = changes.prod().astype(float)\n",
    "    \n",
    "    changes = changes * 2279.7999999999997 * 1000\n",
    "    return changes  \n"
   ]
  },
  {
   "cell_type": "markdown",
   "metadata": {},
   "source": [
    "### Initial Costs"
   ]
  },
  {
   "cell_type": "code",
   "execution_count": 35,
   "metadata": {},
   "outputs": [],
   "source": [
    "def initial(n = 10, dry = False):\n",
    "    # Acreage\n",
    "    acres = pd.Series(np.random.normal(loc = 600, scale = 50,size = n))\n",
    "    acres = acres * 960\n",
    "    \n",
    "    # Seismic \n",
    "    seismic = pd.Series(np.random.normal(loc = 3, scale = .35, size = n))\n",
    "    seismic = seismic * 43000\n",
    "    \n",
    "    # Completion if dry \n",
    "    if dry != False:\n",
    "        completion = [0] * n\n",
    "    else: \n",
    "        completion = pd.Series(np.random.normal(loc = 390000,scale = 50000,size = n))\n",
    "    \n",
    "    # salary \n",
    "    #salary = pd.Series(np.random.triangular(left = 172000,mode = 215000, right = 279500,size = n))\n",
    "    \n",
    "    # Drilling\n",
    "    drills = []\n",
    "    for i in range(n):\n",
    "        drills.append(drill())\n",
    "    drills = pd.Series(drills)\n",
    "    \n",
    "    cost = acres + seismic + completion + drills\n",
    "\n",
    "    return(cost)"
   ]
  },
  {
   "cell_type": "markdown",
   "metadata": {},
   "source": [
    "### Production function\n",
    "Helper function that produces a matrix of initial production and decline rates that are correlated,\n",
    "with n columns"
   ]
  },
  {
   "cell_type": "code",
   "execution_count": 36,
   "metadata": {},
   "outputs": [],
   "source": [
    "def production(n = 10,corr = .64):\n",
    "    R = np.array([[1, corr], [corr, 1]])\n",
    "    U = sp.linalg.cholesky(R, lower = False)\n",
    "\n",
    "    def standardize(x):\n",
    "        x_std = (x - np.mean(x))/np.std(x)\n",
    "        return(x_std)\n",
    "\n",
    "    def destandardize(x_std, x):\n",
    "        x_old = (x_std * np.std(x)) + np.mean(x)\n",
    "        return(x_old)\n",
    "    \n",
    "    ip = np.random.lognormal(mean = 6, sigma = .28,size = n)\n",
    "    decline = np.random.uniform(low = .15, high = .32,size = n)\n",
    "    \n",
    "    combined = np.array([standardize(ip), standardize(decline)])\n",
    "    corrComb = U @ combined\n",
    "    \n",
    "    final = np.array([destandardize(corrComb[0], ip), destandardize(corrComb[1], decline)])\n",
    "    \n",
    "    return final\n"
   ]
  },
  {
   "cell_type": "markdown",
   "metadata": {},
   "source": [
    "### Oil Barrel Function\n",
    "Produces 15 x n matrix of oil barrels numbers year by year"
   ]
  },
  {
   "cell_type": "code",
   "execution_count": 37,
   "metadata": {},
   "outputs": [],
   "source": [
    "def oilBarrel(n = 10):\n",
    "    vals = production(n = n)\n",
    "    barrelMat = []\n",
    "    for i in range(n):\n",
    "        rate = vals[0,i]\n",
    "        \n",
    "        rateInit = vals[0,i]\n",
    "        decline = vals[1,i]\n",
    "        \n",
    "        barrels = []\n",
    "        for j in range(15):\n",
    "            rateEnd = (1 - decline) * rate\n",
    "            barrel = 365 * ((rate + rateEnd) / 2)\n",
    "            rate = rateEnd\n",
    "            barrels.append(barrel)\n",
    "        barrelMat.append(barrels)\n",
    "    \n",
    "    barrelMat = pd.DataFrame(barrelMat).T\n",
    "    return(barrelMat)"
   ]
  },
  {
   "cell_type": "markdown",
   "metadata": {},
   "source": [
    "### Oil Price\n",
    "Produces 15 x n matrix of oil prices"
   ]
  },
  {
   "cell_type": "code",
   "execution_count": 38,
   "metadata": {},
   "outputs": [],
   "source": [
    "def oilPrice(n = 10):\n",
    "    priceMat = []\n",
    "    for j in range(n):\n",
    "        \n",
    "        prices = []\n",
    "        for i in range(0,len(oil)):\n",
    "            price = np.random.triangular(left = oil[\"Low\"][i],mode = oil[\"Expected\"][i], right = oil[\"High\"][i])\n",
    "            prices.append(price)\n",
    "        priceMat.append(prices)\n",
    "    \n",
    "    priceMat = pd.DataFrame(priceMat).T\n",
    "    return(priceMat)\n",
    "\n",
    "\n",
    "        "
   ]
  },
  {
   "cell_type": "markdown",
   "metadata": {},
   "source": [
    "### Oil Production Costs\n",
    "Produces 15 x n matrix of costs per oil barrel"
   ]
  },
  {
   "cell_type": "code",
   "execution_count": 39,
   "metadata": {},
   "outputs": [],
   "source": [
    "def oilProduction(n = 10):\n",
    "    productionsMat = []\n",
    "    for i in range(n):\n",
    "        productions = list(np.random.normal(loc = 2.25,scale = .3,size = 15))\n",
    "        productionsMat.append(productions)\n",
    "    productionsMat = pd.DataFrame(productionsMat).T\n",
    "    return(productionsMat)\n",
    "        "
   ]
  },
  {
   "cell_type": "markdown",
   "metadata": {},
   "source": [
    "### Revenue Function\n",
    "Finds the total revenue after NRI, Barrel Productions, then taxes"
   ]
  },
  {
   "cell_type": "code",
   "execution_count": 40,
   "metadata": {},
   "outputs": [],
   "source": [
    "def revenue(n= 10):\n",
    "    barrels = oilBarrel(n = n)\n",
    "    productions = oilProduction(n = n)\n",
    "    prices = oilPrice(n = n)\n",
    "    revenueMat = (barrels * prices)\n",
    "    \n",
    "    NRI = np.random.normal(loc = .75,scale = .02)\n",
    "    \n",
    "    revenueMat = revenueMat * NRI\n",
    "    \n",
    "    tax = .046\n",
    "    \n",
    "    revenueMat = revenueMat * (1 - tax)\n",
    "    \n",
    "    revenueMat = revenueMat - (barrels * productions)    \n",
    "\n",
    "    return(revenueMat)\n",
    "    "
   ]
  },
  {
   "cell_type": "markdown",
   "metadata": {},
   "source": [
    "### FNR Function\n",
    "Performs the right side of the NPV calculation"
   ]
  },
  {
   "cell_type": "code",
   "execution_count": null,
   "metadata": {},
   "outputs": [],
   "source": [
    "def fnr(n = 10):\n",
    "    revenueMat = revenue(n = n)\n",
    "    wacc = 1.1\n",
    "    total = []\n",
    "    for j in range(0,len(revenueMat.columns)):\n",
    "        temp = []\n",
    "        for i in range(0,len(revenueMat)):\n",
    "            rev = revenueMat.loc[i,j] / (wacc ** (i + 1))\n",
    "            temp.append(rev)\n",
    "        temp = pd.Series(temp)\n",
    "        total.append(temp.sum())\n",
    "    return(total)"
   ]
  },
  {
   "cell_type": "markdown",
   "metadata": {},
   "source": [
    "### NPV Function\n",
    "Adds initial costs to the FNR calculation"
   ]
  },
  {
   "cell_type": "code",
   "execution_count": 42,
   "metadata": {},
   "outputs": [],
   "source": [
    "def npv(n = 10):\n",
    "    \n",
    "    salaries = np.random.triangular(left = 172000,mode = 215000, right = 279500,size = 1) * 16\n",
    "    initials = initial(n = n)\n",
    "    costs = salaries + initials\n",
    "    profit = fnr(n = n)\n",
    "    \n",
    "    total = profit - costs\n",
    "    return(total)\n",
    "    "
   ]
  },
  {
   "cell_type": "code",
   "execution_count": 43,
   "metadata": {},
   "outputs": [],
   "source": [
    "sims = npv(100000)"
   ]
  },
  {
   "cell_type": "code",
   "execution_count": 44,
   "metadata": {},
   "outputs": [
    {
     "name": "stdout",
     "output_type": "stream",
     "text": [
      "Mean Profit for Wet Well: 21766990.7180575\n"
     ]
    },
    {
     "data": {
      "image/png": "[encoded data removed]",
      "text/plain": [
       "<Figure size 640x480 with 1 Axes>"
      ]
     },
     "metadata": {},
     "output_type": "display_data"
    }
   ],
   "source": [
    "print(f\"Mean Profit for Wet Well: {np.mean(sims)}\")\n",
    "plt.hist(sims / 1000)\n",
    "plt.show()\n"
   ]
  },
  {
   "cell_type": "code",
   "execution_count": 45,
   "metadata": {},
   "outputs": [
    {
     "data": {
      "text/plain": [
       "np.float64(-12034479.35822374)"
      ]
     },
     "execution_count": 45,
     "metadata": {},
     "output_type": "execute_result"
    }
   ],
   "source": [
    "sims.min()"
   ]
  },
  {
   "cell_type": "markdown",
   "metadata": {},
   "source": [
    "### Losses for Dry Wells"
   ]
  },
  {
   "cell_type": "code",
   "execution_count": 13,
   "metadata": {},
   "outputs": [],
   "source": [
    "def dry(n = 10):\n",
    "    salaries = pd.Series(np.random.triangular(left = 172000,mode = 215000, right = 279500,size = n))\n",
    "    initials = pd.Series(initial(n = n,dry = True))\n",
    "    loss = salaries + initials\n",
    "    loss = loss * -1\n",
    "    return(loss)\n",
    "    "
   ]
  },
  {
   "cell_type": "code",
   "execution_count": 14,
   "metadata": {},
   "outputs": [],
   "source": [
    "a = dry(100000)"
   ]
  },
  {
   "cell_type": "code",
   "execution_count": 15,
   "metadata": {},
   "outputs": [
    {
     "name": "stdout",
     "output_type": "stream",
     "text": [
      "Mean Loss for Dry: -5795955.552044979\n"
     ]
    },
    {
     "data": {
      "image/png": "[encoded data removed]",
      "text/plain": [
       "<Figure size 640x480 with 1 Axes>"
      ]
     },
     "metadata": {},
     "output_type": "display_data"
    }
   ],
   "source": [
    "print(f\"Mean Loss for Dry: {a.mean()}\")\n",
    "plt.hist(a)\n",
    "plt.show()\n"
   ]
  },
  {
   "cell_type": "code",
   "execution_count": null,
   "metadata": {},
   "outputs": [],
   "source": []
  }
 ],
 "metadata": {
  "kernelspec": {
   "display_name": "Python 3",
   "language": "python",
   "name": "python3"
  },
  "language_info": {
   "codemirror_mode": {
    "name": "ipython",
    "version": 3
   },
   "file_extension": ".py",
   "mimetype": "text/x-python",
   "name": "python",
   "nbconvert_exporter": "python",
   "pygments_lexer": "ipython3",
   "version": "3.12.4"
  }
 },
 "nbformat": 4,
 "nbformat_minor": 2
}
